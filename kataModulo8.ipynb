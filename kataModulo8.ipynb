{
 "cells": [
  {
   "cell_type": "markdown",
   "metadata": {},
   "source": [
    "\n",
    "# Ejercicio 1: Creación de diccionarios de Python\n",
    "*Ejercicio: Crear y modificar un diccionario de Python*\n",
    "*Agrega el código para crear un nuevo diccionario denominado 'planet'. Rellena con la siguiente información:*\n",
    "\n",
    "*name: Mars*\n",
    "*moons: 2*\n",
    "\n"
   ]
  },
  {
   "cell_type": "code",
   "execution_count": 8,
   "metadata": {},
   "outputs": [
    {
     "name": "stdout",
     "output_type": "stream",
     "text": [
      "Mars tiene 2 lunas\n",
      "Mars circunferencia 6752\n"
     ]
    }
   ],
   "source": [
    "# Crea un diccionario llamado planet con los datos propuestos\n",
    "planet = {\n",
    "    'nombre' : 'Mars',\n",
    "    'lunas' : 2\n",
    "}\n",
    "# Muestra el nombre del planeta y el número de lunas que tiene.\n",
    "print(f'{planet[\"nombre\"]} tiene {planet[\"lunas\"]} lunas')\n",
    "\n",
    "# Agrega la clave circunferencia con los datos proporcionados previamente\n",
    "\n",
    "planet['circunferencia'] = {\n",
    "    'polar': 6752,\n",
    "    'equatorial' : 6792\n",
    "\n",
    "}\n",
    "\n",
    "#Imprime el nombre del planeta con su circunferencia polar.\n",
    "print(f'{planet[\"nombre\"]} circunferencia {planet[\"circunferencia\"][\"polar\"]}')\n"
   ]
  },
  {
   "cell_type": "markdown",
   "metadata": {},
   "source": [
    "\n",
    "# Ejercicio 2: Programación dinámica con diccionarios\n",
    "# Ejercicio: Cálculo de valores\n",
    "*En este escenario, calcularás tanto el número total de lunas en el sistema solar como el número promedio de lunas que tiene un planeta*"
   ]
  },
  {
   "cell_type": "code",
   "execution_count": 14,
   "metadata": {},
   "outputs": [
    {
     "name": "stdout",
     "output_type": "stream",
     "text": [
      "dict_values([0, 0, 1, 2, 79, 82, 27, 14, 5, 2, 1, 1])\n",
      "{'nombre': 'Mars', 'lunas': 2, 'circunferencia': {'polar': 6752, 'equatorial': 6792}}\n"
     ]
    },
    {
     "ename": "NameError",
     "evalue": "name 'totalLunas' is not defined",
     "output_type": "error",
     "traceback": [
      "\u001b[1;31m---------------------------------------------------------------------------\u001b[0m",
      "\u001b[1;31mNameError\u001b[0m                                 Traceback (most recent call last)",
      "\u001b[1;32mc:\\Users\\mono\\Downloads\\katasEduardoGalvan\\kataModulo8.ipynb Cell 4'\u001b[0m in \u001b[0;36m<module>\u001b[1;34m\u001b[0m\n\u001b[0;32m     <a href='vscode-notebook-cell:/c%3A/Users/mono/Downloads/katasEduardoGalvan/kataModulo8.ipynb#ch0000007?line=27'>28</a>\u001b[0m total_lunas \u001b[39m=\u001b[39m \u001b[39m0\u001b[39m\n\u001b[0;32m     <a href='vscode-notebook-cell:/c%3A/Users/mono/Downloads/katasEduardoGalvan/kataModulo8.ipynb#ch0000007?line=28'>29</a>\u001b[0m \u001b[39mfor\u001b[39;00m lunas \u001b[39min\u001b[39;00m lunas:\n\u001b[1;32m---> <a href='vscode-notebook-cell:/c%3A/Users/mono/Downloads/katasEduardoGalvan/kataModulo8.ipynb#ch0000007?line=29'>30</a>\u001b[0m     totalLunas \u001b[39m=\u001b[39m totalLunas \u001b[39m+\u001b[39m lunas\n\u001b[0;32m     <a href='vscode-notebook-cell:/c%3A/Users/mono/Downloads/katasEduardoGalvan/kataModulo8.ipynb#ch0000007?line=31'>32</a>\u001b[0m \u001b[39m# Calcula el promedio dividiendo el total_moons por el número de planetas\u001b[39;00m\n\u001b[0;32m     <a href='vscode-notebook-cell:/c%3A/Users/mono/Downloads/katasEduardoGalvan/kataModulo8.ipynb#ch0000007?line=32'>33</a>\u001b[0m average \u001b[39m=\u001b[39m totalLunas \u001b[39m/\u001b[39m planet_moons\n",
      "\u001b[1;31mNameError\u001b[0m: name 'totalLunas' is not defined"
     ]
    }
   ],
   "source": [
    "# Planets and moons\n",
    "\n",
    "planet_moons = {\n",
    "    'mercury': 0,\n",
    "    'venus': 0,\n",
    "    'earth': 1,\n",
    "    'mars': 2,\n",
    "    'jupiter': 79,\n",
    "    'saturn': 82,\n",
    "    'uranus': 27,\n",
    "    'neptune': 14,\n",
    "    'pluto': 5,\n",
    "    'haumea': 2,\n",
    "    'makemake': 1,\n",
    "    'eris': 1\n",
    "}\n",
    "\n",
    "\n",
    "# Añade el código para determinar el número de lunas.\n",
    "\n",
    "lunas = planet_moons.values()\n",
    "print(lunas)\n",
    "\n",
    "# Añade el código para determinar el número de lunas.\n",
    "planets = len(planet_moons.keys())\n",
    "print(planet)\n",
    "\n",
    "total_lunas = 0\n",
    "for lunas in lunas:\n",
    "    totalLunas = totalLunas + lunas\n",
    "\n",
    "# Calcula el promedio dividiendo el total_moons por el número de planetas\n",
    "average = totalLunas / planet_moons\n",
    "\n",
    "# Muestra el promedio\n",
    "print(average)\n"
   ]
  },
  {
   "cell_type": "code",
   "execution_count": 12,
   "metadata": {},
   "outputs": [
    {
     "ename": "NameError",
     "evalue": "name 'totalLunas' is not defined",
     "output_type": "error",
     "traceback": [
      "\u001b[1;31m---------------------------------------------------------------------------\u001b[0m",
      "\u001b[1;31mNameError\u001b[0m                                 Traceback (most recent call last)",
      "\u001b[1;32mc:\\Users\\mono\\Downloads\\katasEduardoGalvan\\kataModulo8.ipynb Cell 5'\u001b[0m in \u001b[0;36m<module>\u001b[1;34m\u001b[0m\n\u001b[0;32m      <a href='vscode-notebook-cell:/c%3A/Users/mono/Downloads/katasEduardoGalvan/kataModulo8.ipynb#ch0000008?line=0'>1</a>\u001b[0m total_lunas \u001b[39m=\u001b[39m \u001b[39m0\u001b[39m\n\u001b[0;32m      <a href='vscode-notebook-cell:/c%3A/Users/mono/Downloads/katasEduardoGalvan/kataModulo8.ipynb#ch0000008?line=1'>2</a>\u001b[0m \u001b[39mfor\u001b[39;00m lunas \u001b[39min\u001b[39;00m lunas:\n\u001b[1;32m----> <a href='vscode-notebook-cell:/c%3A/Users/mono/Downloads/katasEduardoGalvan/kataModulo8.ipynb#ch0000008?line=2'>3</a>\u001b[0m     totalLunas \u001b[39m=\u001b[39m totalLunas \u001b[39m+\u001b[39m lunas\n\u001b[0;32m      <a href='vscode-notebook-cell:/c%3A/Users/mono/Downloads/katasEduardoGalvan/kataModulo8.ipynb#ch0000008?line=4'>5</a>\u001b[0m \u001b[39m# Calcula el promedio dividiendo el total_moons por el número de planetas\u001b[39;00m\n\u001b[0;32m      <a href='vscode-notebook-cell:/c%3A/Users/mono/Downloads/katasEduardoGalvan/kataModulo8.ipynb#ch0000008?line=5'>6</a>\u001b[0m average \u001b[39m=\u001b[39m totalLunas \u001b[39m/\u001b[39m planets\n",
      "\u001b[1;31mNameError\u001b[0m: name 'totalLunas' is not defined"
     ]
    }
   ],
   "source": [
    "total_lunas = 0\n",
    "for lunas in lunas:\n",
    "    totalLunas = totalLunas + lunas\n",
    "\n",
    "# Calcula el promedio dividiendo el total_moons por el número de planetas\n",
    "average = totalLunas / planets\n",
    "\n",
    "# Muestra el promedio\n",
    "print(average)"
   ]
  }
 ],
 "metadata": {
  "interpreter": {
   "hash": "147d05feb12c062899aa1d28f89e61d190824cb25a403c7a7a8f59ec8bf8bd07"
  },
  "kernelspec": {
   "display_name": "Python 3.10.2 64-bit (windows store)",
   "language": "python",
   "name": "python3"
  },
  "language_info": {
   "codemirror_mode": {
    "name": "ipython",
    "version": 3
   },
   "file_extension": ".py",
   "mimetype": "text/x-python",
   "name": "python",
   "nbconvert_exporter": "python",
   "pygments_lexer": "ipython3",
   "version": "3.10.2"
  },
  "orig_nbformat": 4
 },
 "nbformat": 4,
 "nbformat_minor": 2
}
