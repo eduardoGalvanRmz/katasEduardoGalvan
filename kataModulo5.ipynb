{
 "cells": [
  {
   "cell_type": "markdown",
   "metadata": {},
   "source": [
    "# Ejercicio1 - Utilizar operadores aritméticos\n",
    "*Exploremos cómo podemos crear un programa que pueda calcular la distancia entre dos planetas. Comenzaremos usando dos distancias de planetas: Tierra (149.597.870 km) y Júpiter (778.547.200 km).*"
   ]
  },
  {
   "cell_type": "code",
   "execution_count": null,
   "metadata": {},
   "outputs": [],
   "source": [
    "\n",
    "distanciaTierra = 149597870  #km\n",
    "distanciaJupiter = 778547200 #km\n"
   ]
  },
  {
   "cell_type": "code",
   "execution_count": 8,
   "metadata": {},
   "outputs": [
    {
     "name": "stdout",
     "output_type": "stream",
     "text": [
      "628949330km,390577533.93Millas\n"
     ]
    }
   ],
   "source": [
    "# Restarás el primer planeta del segundo para determinar la distancia en kilómetros. A continuación, puedes convertir la distancia \n",
    "# del kilómetro en millas multiplicándola por 0.621.\n",
    "\n",
    "distanciaTierra = 149597870\n",
    "distanciaJupiter = 778547200\n",
    "\n",
    "distanciaTierraJupiterKm = (abs(distanciaTierra - distanciaJupiter))\n",
    "distanciaTierraJupiterMillas = (distanciaTierraJupiterKm * 0.621)\n",
    "\n",
    "\n",
    "print(\"{}km,{}Millas\".format(distanciaTierraJupiterKm,distanciaTierraJupiterMillas))"
   ]
  },
  {
   "cell_type": "code",
   "execution_count": 19,
   "metadata": {},
   "outputs": [
    {
     "name": "stdout",
     "output_type": "stream",
     "text": [
      "4999000 Km\n",
      "3104379.0 Millas \n"
     ]
    }
   ],
   "source": [
    "#Ejercicio 2: convierte cadenas en números y usa valores absolutos\n",
    "'''Para crear nuestra aplicación, queremos leer la distancia del sol para dos planetas, y luego mostrar la distancia entre los planetas. \n",
    "Haremos esto usando input para leer los valores, int para convertir a entero y luego abs para convertir \n",
    "el resultado en su valor absoluto'''\n",
    "\n",
    "Tierra = input( \"Distancia planeta tierra: \")\n",
    "Jupiter = input( \"Distancia planeta Jupiter: \")\n",
    "\n",
    "Tierra = int(Tierra)\n",
    "Jupiter = int(Jupiter)\n",
    "\n",
    "distanciaPlanetas = (abs(Tierra-Jupiter))\n",
    "print(\"{} Km{}{} Millas \".format(distanciaPlanetas,\"\\n\",(distanciaPlanetas*0.621)))\n",
    "\n"
   ]
  }
 ],
 "metadata": {
  "interpreter": {
   "hash": "669f5abd92f1a410df15b0643b9f42360e277a412fc08ae8bc7d7911cf7e8f3d"
  },
  "kernelspec": {
   "display_name": "Python 3.10.2 64-bit",
   "language": "python",
   "name": "python3"
  },
  "language_info": {
   "codemirror_mode": {
    "name": "ipython",
    "version": 3
   },
   "file_extension": ".py",
   "mimetype": "text/x-python",
   "name": "python",
   "nbconvert_exporter": "python",
   "pygments_lexer": "ipython3",
   "version": "3.10.2"
  },
  "orig_nbformat": 4
 },
 "nbformat": 4,
 "nbformat_minor": 2
}
