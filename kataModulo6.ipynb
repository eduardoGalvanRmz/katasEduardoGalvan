{
 "cells": [
  {
   "cell_type": "markdown",
   "metadata": {},
   "source": [
    "# Ejercicio1: Crear y usar listas de Python\n"
   ]
  },
  {
   "cell_type": "code",
   "execution_count": 4,
   "metadata": {},
   "outputs": [
    {
     "name": "stdout",
     "output_type": "stream",
     "text": [
      "['Mercury', 'Venus', 'Earth', 'Mars', 'Jupiter', 'Saturn', 'Uranus', 'Neptune', 'Pluton']\n"
     ]
    }
   ],
   "source": [
    "planets = ['Mercury', 'Venus', 'Earth', 'Mars', 'Jupiter', 'Saturn', 'Uranus', 'Neptune']\n",
    "planets.append('Pluton')\n",
    "print(planets)"
   ]
  },
  {
   "cell_type": "markdown",
   "metadata": {},
   "source": [
    "# Ejercicio 2: Trabajando con datos de una lista\n",
    "*Usar slices para recuperar partes de una lista*"
   ]
  },
  {
   "cell_type": "code",
   "execution_count": 19,
   "metadata": {},
   "outputs": [
    {
     "name": "stdout",
     "output_type": "stream",
     "text": [
      "Has escrito: Jupiter\n",
      "Posición en la lista:  4\n",
      "planetas mas cercanos antes de Jupiter son: ['Mercury', 'Venus', 'Earth', 'Mars']\n"
     ]
    }
   ],
   "source": [
    "# Lista de planetas\n",
    "planets = ['Mercury', 'Venus', 'Earth', 'Mars', 'Jupiter', 'Saturn', 'Neptune']\n",
    "\n",
    "# Solicita al usuario el nombre de un planeta\n",
    "planeta = input(\"ingrese el nombre del planeta: \")\n",
    "print(\"Has escrito:\", planeta)\n",
    "planetaIndex = planets.index(planeta)\n",
    "print(\"Posición en la lista: \", planetaIndex)\n",
    "\n",
    "# Mostrar planetas más cercanos al sol que el que el usuario ingresó\n",
    "planetasCercanos = planets[:planetaIndex]\n",
    "print(\"planetas mas cercanos antes de {} son: {}\".format(planeta,planetasCercanos))"
   ]
  }
 ],
 "metadata": {
  "interpreter": {
   "hash": "147d05feb12c062899aa1d28f89e61d190824cb25a403c7a7a8f59ec8bf8bd07"
  },
  "kernelspec": {
   "display_name": "Python 3.10.2 64-bit (windows store)",
   "language": "python",
   "name": "python3"
  },
  "language_info": {
   "codemirror_mode": {
    "name": "ipython",
    "version": 3
   },
   "file_extension": ".py",
   "mimetype": "text/x-python",
   "name": "python",
   "nbconvert_exporter": "python",
   "pygments_lexer": "ipython3",
   "version": "3.10.2"
  },
  "orig_nbformat": 4
 },
 "nbformat": 4,
 "nbformat_minor": 2
}
