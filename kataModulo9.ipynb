{
 "cells": [
  {
   "cell_type": "markdown",
   "metadata": {},
   "source": [
    "# Ejercicio: Uso de funciones en Python\n",
    "# Ejercicio 1: Trabajar con argumentos en funciones\n",
    " *En este ejercicio, construirás un informe de combustible que requiere información de varias ubicaciones de combustible en todo el cohete.*"
   ]
  },
  {
   "cell_type": "code",
   "execution_count": 79,
   "metadata": {},
   "outputs": [
    {
     "name": "stdout",
     "output_type": "stream",
     "text": [
      "Promedio :53.333333333333336%  tanque1 :80%  tanque2:30%  tanque3:50%\n"
     ]
    }
   ],
   "source": [
    "# Función para leer 3 tanques de combustible y muestre el promedio\n",
    "\n",
    "def combustibleTotal (tanque1,tanque2,tanque3):\n",
    "    combustiblePromedio = (tanque1 + tanque2 + tanque3)/3\n",
    "    return \"Promedio :{}%  tanque1 :{}%  tanque2:{}%  tanque3:{}%\".format(combustiblePromedio,tanque1,tanque2,tanque3)\n",
    "    \n",
    "    \n",
    "print(combustibleTotal(80,30,50))\n",
    "\n"
   ]
  },
  {
   "cell_type": "code",
   "execution_count": 115,
   "metadata": {},
   "outputs": [
    {
     "data": {
      "text/plain": [
       "82.0"
      ]
     },
     "execution_count": 115,
     "metadata": {},
     "output_type": "execute_result"
    }
   ],
   "source": [
    "# Función promedio \n",
    "\n",
    "def promedio(datos):\n",
    "    total = sum(datos)/3\n",
    "    return total\n",
    "\n",
    "promedio([80, 85, 81]) "
   ]
  },
  {
   "cell_type": "markdown",
   "metadata": {},
   "source": [
    "\n",
    "# Ejercicio 2: Trabajo con argumentos de palabra clave\n",
    "# Ejercicio : Trabajar con argumentos de palabras clave en funciones\n"
   ]
  },
  {
   "cell_type": "code",
   "execution_count": 112,
   "metadata": {},
   "outputs": [
    {
     "name": "stdout",
     "output_type": "stream",
     "text": [
      "\n",
      "    Punto destino Tierra\n",
      "    Recorrido 124 minutes\n",
      "    Consumo: 44128\n",
      "    \n"
     ]
    }
   ],
   "source": [
    "\n",
    "def mission_report(destino, *minutos, **combustibleConsumido):\n",
    "    return f\"\"\"\n",
    "    Punto destino: {destino}\n",
    "    Recorrido: {sum(minutos)} minutes\n",
    "    Consumo: {sum(combustibleConsumido.values())}\n",
    "    \"\"\"\n",
    "\n",
    "print(mission_report(\"Tierra\", 67, 45, 12, tanque1=37363, tanque2 = 6765))"
   ]
  }
 ],
 "metadata": {
  "interpreter": {
   "hash": "147d05feb12c062899aa1d28f89e61d190824cb25a403c7a7a8f59ec8bf8bd07"
  },
  "kernelspec": {
   "display_name": "Python 3.10.2 64-bit (windows store)",
   "language": "python",
   "name": "python3"
  },
  "language_info": {
   "codemirror_mode": {
    "name": "ipython",
    "version": 3
   },
   "file_extension": ".py",
   "mimetype": "text/x-python",
   "name": "python",
   "nbconvert_exporter": "python",
   "pygments_lexer": "ipython3",
   "version": "3.10.2"
  },
  "orig_nbformat": 4
 },
 "nbformat": 4,
 "nbformat_minor": 2
}
