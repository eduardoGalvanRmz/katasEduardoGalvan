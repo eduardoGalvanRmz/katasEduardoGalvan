{
 "cells": [
  {
   "cell_type": "markdown",
   "metadata": {},
   "source": [
    "# Ejercicio 1: Transformar cadenas\n",
    "\n",
    "text = \"\"\"Interesting facts about the Moon. The Moon is Earth's only satellite. There are several interesting facts about the Moon and how it affects life here on Earth. \n",
    "On average, the Moon moves 4cm away from the Earth every year. This yearly drift is not significant enough to cause immediate effects on Earth. The highest daylight temperature of the Moon is 127 C.\"\"\"\n"
   ]
  },
  {
   "cell_type": "code",
   "execution_count": 5,
   "metadata": {},
   "outputs": [
    {
     "data": {
      "text/plain": [
       "['Interesting facts about the Moon',\n",
       " \" The Moon is Earth's only satellite\",\n",
       " ' There are several interesting facts about the Moon and how it affects life here on Earth',\n",
       " ' \\nOn average, the Moon moves 4cm away from the Earth every year',\n",
       " ' This yearly drift is not significant enough to cause immediate effects on Earth',\n",
       " ' The highest daylight temperature of the Moon is 127 C',\n",
       " '']"
      ]
     },
     "execution_count": 5,
     "metadata": {},
     "output_type": "execute_result"
    }
   ],
   "source": [
    "# Primero, divide el texto en cada oración para trabajar con su contenido\n",
    "\n",
    "text = \"\"\"Interesting facts about the Moon. The Moon is Earth's only satellite. There are several interesting facts about the Moon and how it affects life here on Earth. \n",
    "On average, the Moon moves 4cm away from the Earth every year. This yearly drift is not significant enough to cause immediate effects on Earth. The highest daylight temperature of the Moon is 127 C.\"\"\"\n",
    "\n",
    "text.split('.')"
   ]
  },
  {
   "cell_type": "code",
   "execution_count": 17,
   "metadata": {},
   "outputs": [
    {
     "name": "stdout",
     "output_type": "stream",
     "text": [
      "127 C\n",
      "4cm\n"
     ]
    }
   ],
   "source": [
    "#Ahora, define algunas palabras clave para búsqueda que te ayudarán a determinar si una oración contiene un hecho.\n",
    "text = \"\"\"Interesting facts about the Moon. The Moon is Earth's only satellite. There are several interesting facts about the Moon and how it affects life here on Earth. \n",
    "On average, the Moon moves 4cm away from the Earth every year. This yearly drift is not significant enough to cause immediate effects on Earth. The highest daylight temperature of the Moon is 127 C.\"\"\"\n",
    "\n",
    "for moonTemperature in text.split():\n",
    "    if moonTemperature.isnumeric():\n",
    "        print(moonTemperature + \" C\")\n",
    "\n",
    "for moonMove in text.split():\n",
    "    if moonMove.endswith('cm'):\n",
    "        print(moonMove)\n",
    "\n"
   ]
  },
  {
   "cell_type": "code",
   "execution_count": 16,
   "metadata": {},
   "outputs": [
    {
     "name": "stdout",
     "output_type": "stream",
     "text": [
      " The Moon is Earth's only satellite\n",
      " \n",
      "On average, the Moon moves 4cm away from the Earth every year\n",
      " The highest daylight temperature of the Moon is 127 C\n"
     ]
    }
   ],
   "source": [
    "# Define las palabras pista: average, temperature y distance suenan bien\n",
    "#Crea un bucle para imprimir solo datos sobre la Luna que estén relacionados con las palabras clave definidas anteriormente:\n",
    "\n",
    "text = \"\"\"Interesting facts about the Moon. The Moon is Earth's only satellite. There are several interesting facts about the Moon and how it affects life here on Earth. \n",
    "On average, the Moon moves 4cm away from the Earth every year. This yearly drift is not significant enough to cause immediate effects on Earth. The highest daylight temperature of the Moon is 127 C.\"\"\"\n",
    "\n",
    "#Cambié algo en las palabra clave, por ejemplo: \"average\" por \"average,\" y distance por \"move\" y añadí \"'s\" para hacer una pequeña prueba\n",
    "TextoPorPartes = text.split('.')\n",
    "palabrasClave = [\"'s\",'average,', 'temperature' ,'move'] \n",
    "\n",
    "for i in TextoPorPartes:\n",
    "    for j in palabrasClave:\n",
    "        if j in i:\n",
    "            print(i)\n",
    "            break\n",
    "     \n"
   ]
  },
  {
   "cell_type": "code",
   "execution_count": 18,
   "metadata": {},
   "outputs": [
    {
     "name": "stdout",
     "output_type": "stream",
     "text": [
      " The highest daylight temperature of the Moon is 127 Celsius\n"
     ]
    }
   ],
   "source": [
    "#ciclo for para cambiar a celcius\n",
    "\n",
    "text = \"\"\"Interesting facts about the Moon. The Moon is Earth's only satellite. There are several interesting facts about the Moon and how it affects life here on Earth. \n",
    "On average, the Moon moves 4cm away from the Earth every year. This yearly drift is not significant enough to cause immediate effects on Earth. The highest daylight temperature of the Moon is 127 C.\"\"\"\n",
    "\n",
    "TextoPorPartes = text.split('.')\n",
    "CambioPalabra = ['C'] \n",
    "\n",
    "for i in TextoPorPartes:\n",
    "    for j in CambioPalabra:\n",
    "        if j in i:\n",
    "            print(i.replace('C','Celsius'))\n",
    "            break\n",
    "     "
   ]
  },
  {
   "cell_type": "markdown",
   "metadata": {},
   "source": [
    "# Ejercicio 2: Formateando Cadenas\n",
    "\n"
   ]
  },
  {
   "cell_type": "code",
   "execution_count": 22,
   "metadata": {},
   "outputs": [
    {
     "name": "stdout",
     "output_type": "stream",
     "text": [
      "Gravedad en Tierra y Moon\n"
     ]
    }
   ],
   "source": [
    "#Primero, crea un título para el texto. Debido a que este texto trata sobre la gravedad en la Tierra y la Luna, úsalo para crear un título significativo. Utiliza las variables en lugar de escribir.\n",
    "\n",
    "planeta = 'Tierra'\n",
    "gravedad = 0.00143 #km\n",
    "nombre = \"Moon\"\n",
    "\n",
    "titulo = \"Gravedad en {} y {}\".format(planeta,nombre)"
   ]
  },
  {
   "cell_type": "code",
   "execution_count": 44,
   "metadata": {},
   "outputs": [
    {
     "name": "stdout",
     "output_type": "stream",
     "text": [
      "Gravedad En Tierra Y Luna\n",
      "--------------------------------------------------------------------------------\n",
      "Nombre Planeta :Tierra \n",
      "Gravedad en Luna: 1.4300000000000002 m/s2)\n",
      "\n",
      "Gravedad En Tierra Y Luna\n",
      "--------------------------------------------------------------------------------\n",
      "Nombre Planeta :Tierra \n",
      "Gravedad en Luna: 1.4300000000000002 m/s2)\n",
      "\n",
      "--------------------------------------------------------------------------------\n",
      "Nombre Planeta :Marte \n",
      "Gravedad en Ganímedes: 1.57 m/s2)\n",
      "--------------------------------------------------------------------------------\n",
      "Nombre Planeta :Marte \n",
      "Gravedad en Ganímedes: 1.57 m/s2)\n"
     ]
    }
   ],
   "source": [
    "#Ahora crea una plantilla de cadena multilínea para contener el resto de la información. En lugar de usar kilómetros, debes convertir la distancia a metros multiplicando por 1,000.\n",
    "# Unión de ambas cadenas\n",
    "planeta = 'Tierra'\n",
    "gravedad = 0.00143 #km\n",
    "nombre = \"Luna\"\n",
    "lineaPunteada = ('-'*80)\n",
    "titulo = \"Gravedad en {} y {}\".format(planeta,nombre)\n",
    "plantilla = (lineaPunteada + \"\\n\" + \n",
    "\"Nombre Planeta :{} {}Gravedad en {}: {} m/s2)\".format(planeta,\"\\n\",nombre,(gravedad*1000)))\n",
    "\n",
    "plantillaFinal = f\"\"\"{titulo.title()}\n",
    "{plantilla}\n",
    "\"\"\"\n",
    "print(plantillaFinal)\n",
    "\n",
    "\n",
    "# Comprueba la plantilla con una nueva plantilla\n",
    "# print(nombre_plantilla)\n",
    "planeta = 'Marte'\n",
    "gravedad  = 0.00157\n",
    "nombre = 'Ganímedes'\n",
    "titulo = \"Gravedad en {} y {}\".format(planeta,nombre)\n",
    "plantilla = (lineaPunteada + \"\\n\" + \n",
    "\"Nombre Planeta :{} {}Gravedad en {}: {} m/s2)\".format(planeta,\"\\n\",nombre,(gravedad*1000)))\n",
    "\n",
    "print(plantillaFinal)\n",
    "\n",
    "# Nueva plantilla\n",
    "planeta = 'Marte'\n",
    "gravedad  = 0.00157\n",
    "nombre = 'Ganímedes'\n",
    "titulo = \"Gravedad en {} y {}\".format(planeta,nombre)\n",
    "plantilla = (lineaPunteada + \"\\n\" + \n",
    "\"Nombre Planeta :{} {}Gravedad en {}: {} m/s2)\".format(planeta,\"\\n\",nombre,(gravedad*1000)))\n",
    "\n",
    "nuevaPlantilla = plantilla\n",
    "print(nuevaPlantilla.format(nombre=nombre, planeta=planeta, gravedad=gravedad*1000))\n",
    "print(nuevaPlantilla)\n",
    "\n"
   ]
  },
  {
   "cell_type": "code",
   "execution_count": null,
   "metadata": {},
   "outputs": [],
   "source": []
  }
 ],
 "metadata": {
  "interpreter": {
   "hash": "669f5abd92f1a410df15b0643b9f42360e277a412fc08ae8bc7d7911cf7e8f3d"
  },
  "kernelspec": {
   "display_name": "Python 3.10.2 64-bit",
   "language": "python",
   "name": "python3"
  },
  "language_info": {
   "codemirror_mode": {
    "name": "ipython",
    "version": 3
   },
   "file_extension": ".py",
   "mimetype": "text/x-python",
   "name": "python",
   "nbconvert_exporter": "python",
   "pygments_lexer": "ipython3",
   "version": "3.10.2"
  },
  "orig_nbformat": 4
 },
 "nbformat": 4,
 "nbformat_minor": 2
}
